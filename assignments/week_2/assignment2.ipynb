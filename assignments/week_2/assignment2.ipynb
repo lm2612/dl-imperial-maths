{
 "cells": [
  {
   "cell_type": "code",
   "execution_count": 1,
   "metadata": {},
   "outputs": [],
   "source": [
    "import numpy as np\n",
    "import pandas as pd\n",
    "import tensorflow as tf\n",
    "import os\n",
    "import matplotlib.pyplot as plt"
   ]
  },
  {
   "cell_type": "code",
   "execution_count": 2,
   "metadata": {},
   "outputs": [
    {
     "name": "stdout",
     "output_type": "stream",
     "text": [
      "/Users/lm2612/Documents/PhD/DeepLearning/coursework/dl-imperial-maths/assignments/week_2\n"
     ]
    }
   ],
   "source": [
    "print(os.getcwd())"
   ]
  },
  {
   "cell_type": "code",
   "execution_count": 3,
   "metadata": {},
   "outputs": [],
   "source": [
    "mnist_dir = 'mnist/'\n",
    "train = mnist_dir+'t10k-images.idx3-ubyte'"
   ]
  },
  {
   "cell_type": "code",
   "execution_count": 4,
   "metadata": {},
   "outputs": [
    {
     "data": {
      "text/plain": [
       "<function tensorflow.contrib.learn.python.learn.datasets.mnist.read_data_sets(train_dir, fake_data=False, one_hot=False, dtype=tf.float32, reshape=True, validation_size=5000, seed=None, source_url='https://storage.googleapis.com/cvdf-datasets/mnist/')>"
      ]
     },
     "execution_count": 4,
     "metadata": {},
     "output_type": "execute_result"
    }
   ],
   "source": [
    "from tensorflow.examples.tutorials.mnist import input_data\n",
    "input_data.read_data_sets"
   ]
  },
  {
   "cell_type": "code",
   "execution_count": 5,
   "metadata": {},
   "outputs": [
    {
     "name": "stdout",
     "output_type": "stream",
     "text": [
      "WARNING:tensorflow:From <ipython-input-5-a839aeb82f4b>:1: read_data_sets (from tensorflow.contrib.learn.python.learn.datasets.mnist) is deprecated and will be removed in a future version.\n",
      "Instructions for updating:\n",
      "Please use alternatives such as official/mnist/dataset.py from tensorflow/models.\n",
      "WARNING:tensorflow:From /anaconda3/envs/tensorflow_env/lib/python3.6/site-packages/tensorflow/contrib/learn/python/learn/datasets/mnist.py:260: maybe_download (from tensorflow.contrib.learn.python.learn.datasets.base) is deprecated and will be removed in a future version.\n",
      "Instructions for updating:\n",
      "Please write your own downloading logic.\n",
      "WARNING:tensorflow:From /anaconda3/envs/tensorflow_env/lib/python3.6/site-packages/tensorflow/contrib/learn/python/learn/datasets/mnist.py:262: extract_images (from tensorflow.contrib.learn.python.learn.datasets.mnist) is deprecated and will be removed in a future version.\n",
      "Instructions for updating:\n",
      "Please use tf.data to implement this functionality.\n",
      "Extracting MNIST_data/train-images-idx3-ubyte.gz\n",
      "WARNING:tensorflow:From /anaconda3/envs/tensorflow_env/lib/python3.6/site-packages/tensorflow/contrib/learn/python/learn/datasets/mnist.py:267: extract_labels (from tensorflow.contrib.learn.python.learn.datasets.mnist) is deprecated and will be removed in a future version.\n",
      "Instructions for updating:\n",
      "Please use tf.data to implement this functionality.\n",
      "Extracting MNIST_data/train-labels-idx1-ubyte.gz\n",
      "WARNING:tensorflow:From /anaconda3/envs/tensorflow_env/lib/python3.6/site-packages/tensorflow/contrib/learn/python/learn/datasets/mnist.py:110: dense_to_one_hot (from tensorflow.contrib.learn.python.learn.datasets.mnist) is deprecated and will be removed in a future version.\n",
      "Instructions for updating:\n",
      "Please use tf.one_hot on tensors.\n",
      "Extracting MNIST_data/t10k-images-idx3-ubyte.gz\n",
      "Extracting MNIST_data/t10k-labels-idx1-ubyte.gz\n",
      "WARNING:tensorflow:From /anaconda3/envs/tensorflow_env/lib/python3.6/site-packages/tensorflow/contrib/learn/python/learn/datasets/mnist.py:290: DataSet.__init__ (from tensorflow.contrib.learn.python.learn.datasets.mnist) is deprecated and will be removed in a future version.\n",
      "Instructions for updating:\n",
      "Please use alternatives such as official/mnist/dataset.py from tensorflow/models.\n"
     ]
    }
   ],
   "source": [
    "mnist = input_data.read_data_sets(\"MNIST_data/\", one_hot=True)"
   ]
  },
  {
   "cell_type": "code",
   "execution_count": 6,
   "metadata": {},
   "outputs": [],
   "source": [
    "training_images = mnist.train.images\n",
    "training_labels = mnist.train.labels\n",
    "test_images = mnist.test.images\n",
    "test_labels = mnist.test.labels\n",
    "validation_images = mnist.validation.images\n",
    "validation_labels = mnist.validation.labels"
   ]
  },
  {
   "cell_type": "code",
   "execution_count": 7,
   "metadata": {},
   "outputs": [
    {
     "data": {
      "text/plain": [
       "<matplotlib.contour.QuadContourSet at 0xb41667f60>"
      ]
     },
     "execution_count": 7,
     "metadata": {},
     "output_type": "execute_result"
    },
    {
     "data": {
      "image/png": "[encoded data removed]",
      "text/plain": [
       "<Figure size 432x288 with 1 Axes>"
      ]
     },
     "metadata": {
      "needs_background": "light"
     },
     "output_type": "display_data"
    }
   ],
   "source": [
    "example = training_images[1,:]\n",
    "example = np.reshape(example,(28,28))\n",
    "plt.contourf(example)"
   ]
  },
  {
   "cell_type": "code",
   "execution_count": 8,
   "metadata": {},
   "outputs": [],
   "source": [
    "class mlp_classifier():\n",
    "    \"\"\" multilayer perceptron classifer designed classifying the mnist dataset\n",
    "    takes in images and classifies the label\"\"\"\n",
    "    def __init__(self,wd_factor=0.0001,learning_rate=0.0001,\n",
    "                 n_layers=5,nodes_per_layer=[392,196,98,49]):\n",
    "        self.wd_factor = wd_factor\n",
    "        self.learning_rate = learning_rate\n",
    "        self.n_layers = n_layers\n",
    "        self.nodes_per_layer = nodes_per_layer\n",
    "        #assert (n_layers==len(nodes_per_layer))\n",
    "        self.sess = tf.Session()\n",
    "        # set placeholders for our data\n",
    "        self.image = tf.placeholder(dtype=tf.float32, shape=[None, 784], name='image')\n",
    "        self.true_label = tf.placeholder(dtype=tf.float32,shape=[None,10],name='label')\n",
    "        self._build_graph()\n",
    "        \n",
    "        self.train_pointer = 0\n",
    "        self.test_pointer = 0\n",
    "        \n",
    "        \n",
    "    def _build_graph(self):   \n",
    "        n_layers = self.n_layers\n",
    "        nodes_per_layer = self.nodes_per_layer\n",
    "        print('Building graph with {} layers, with {} nodes '.format(n_layers,nodes_per_layer))\n",
    "        with tf.variable_scope('layers'):\n",
    "            h = tf.layers.dense(self.image, nodes_per_layer[0], \n",
    "                                kernel_initializer=tf.glorot_uniform_initializer(), \n",
    "                                activation=tf.tanh, name='1',reuse=tf.AUTO_REUSE)\n",
    "            print(h)\n",
    "            # Loop over all layers specified\n",
    "            for i in range(1,n_layers-1):    \n",
    "                h = tf.layers.dense(h, nodes_per_layer[i], \n",
    "                                    kernel_initializer=tf.glorot_uniform_initializer(), \n",
    "                                activation=tf.tanh, name=str(i+1),reuse=tf.AUTO_REUSE)\n",
    "                print(h)\n",
    "            \n",
    "            # our final layer with 10 logits\n",
    "            self.logits = tf.layers.dense(h, 10, \n",
    "                                          kernel_initializer=tf.glorot_uniform_initializer(), \n",
    "                                          activation=tf.identity, name=str(n_layers),reuse=tf.AUTO_REUSE)\n",
    "            print(self.logits)\n",
    "            self.prediction = tf.nn.softmax(self.logits, name='softmax_prediction')\n",
    "            \n",
    "        with tf.name_scope('loss'):\n",
    "            self.loss = tf.reduce_mean(tf.nn.softmax_cross_entropy_with_logits_v2(logits=self.logits, \n",
    "                                                                                  labels=self.true_label))\n",
    "            self.loss += self.weight_decay()\n",
    "            \n",
    "        self.optimizer = tf.train.AdamOptimizer(self.learning_rate)\n",
    "        self.train_op = self.optimizer.minimize(self.loss)\n",
    "        \n",
    "    def weight_decay(self):\n",
    "        loss = 0\n",
    "        for v in tf.global_variables():\n",
    "            if 'Adam' in v.name:\n",
    "                continue\n",
    "            elif 'kernel' in v.name:\n",
    "                loss += self.wd_factor * tf.nn.l2_loss(v)\n",
    "        print(loss)\n",
    "        return loss\n",
    "        \n",
    "    def train_minibatch(self, samples, labels, batch_size):\n",
    "        if self.train_pointer + batch_size <= samples.shape[0]:\n",
    "            samples_minibatch = samples[self.train_pointer: self.train_pointer + batch_size]\n",
    "            labels_minibatch = labels[self.train_pointer: self.train_pointer + batch_size]\n",
    "            self.train_pointer += batch_size\n",
    "        else:\n",
    "            samples_minibatch = samples[self.train_pointer:]\n",
    "            labels_minibatch = labels[self.train_pointer: self.train_pointer + batch_size]\n",
    "            self.train_pointer = 0\n",
    "        return samples_minibatch, labels_minibatch\n",
    "\n",
    "    def train(self, train_samples, train_labels, train_batch_size, iteration_steps):\n",
    "        self.sess.run(tf.global_variables_initializer())\n",
    "\n",
    "        print('Start Training')\n",
    "        losses = []\n",
    "        for i in range(iteration_steps):\n",
    "            samples, labels = self.train_minibatch(train_samples, train_labels, train_batch_size)\n",
    "            feed_dict = {self.image: samples, self.true_label: labels}\n",
    "            _, loss = self.sess.run([self.train_op, self.loss], feed_dict=feed_dict)\n",
    "            if i % 50 == 0:\n",
    "                print(\"Minibatch loss at step {}: {}\".format(i, loss))\n",
    "                losses.append([i, loss])\n",
    "        return losses\n",
    "                    \n",
    "    def test_minibatch(self, samples, labels, batch_size):\n",
    "        if self.test_pointer + batch_size <= samples.shape[0]:\n",
    "            samples_minibatch = samples[self.test_pointer: self.test_pointer + batch_size]\n",
    "            labels_minibatch = labels[self.test_pointer: self.test_pointer + batch_size]\n",
    "            self.test_pointer += batch_size\n",
    "            end_of_epoch = False\n",
    "        else:\n",
    "            samples_minibatch = samples[self.test_pointer:]\n",
    "            labels_minibatch = labels[self.test_pointer: self.test_pointer + batch_size]\n",
    "            self.test_pointer = 0\n",
    "            end_of_epoch = True\n",
    "        return samples_minibatch, labels_minibatch, end_of_epoch\n",
    "            \n",
    "    def test(self, test_samples, test_labels, test_batch_size):\n",
    "        end_of_epoch = False\n",
    "        losses = []\n",
    "        while not end_of_epoch:\n",
    "            samples, labels, end_of_epoch = self.test_minibatch(test_samples, test_labels, test_batch_size)\n",
    "            feed_dict = {self.image: samples, self.true_label: labels}\n",
    "            loss_value = self.sess.run(self.loss, feed_dict=feed_dict)\n",
    "            losses.append(loss_value)  \n",
    "        print(\"Average test loss: {}\".format(np.mean(losses)))\n",
    "        "
   ]
  },
  {
   "cell_type": "code",
   "execution_count": 9,
   "metadata": {},
   "outputs": [
    {
     "name": "stdout",
     "output_type": "stream",
     "text": [
      "Building graph with 5 layers, with [392, 196, 98, 49] nodes \n",
      "Tensor(\"layers/1/Tanh:0\", shape=(?, 392), dtype=float32)\n",
      "Tensor(\"layers/2/Tanh:0\", shape=(?, 196), dtype=float32)\n",
      "Tensor(\"layers/3/Tanh:0\", shape=(?, 98), dtype=float32)\n",
      "Tensor(\"layers/4/Tanh:0\", shape=(?, 49), dtype=float32)\n",
      "Tensor(\"layers/5/Identity:0\", shape=(?, 10), dtype=float32)\n",
      "Tensor(\"loss/add_4:0\", shape=(), dtype=float32)\n",
      "[<tf.Variable 'layers/1/kernel:0' shape=(784, 392) dtype=float32_ref>, <tf.Variable 'layers/1/bias:0' shape=(392,) dtype=float32_ref>, <tf.Variable 'layers/2/kernel:0' shape=(392, 196) dtype=float32_ref>, <tf.Variable 'layers/2/bias:0' shape=(196,) dtype=float32_ref>, <tf.Variable 'layers/3/kernel:0' shape=(196, 98) dtype=float32_ref>, <tf.Variable 'layers/3/bias:0' shape=(98,) dtype=float32_ref>, <tf.Variable 'layers/4/kernel:0' shape=(98, 49) dtype=float32_ref>, <tf.Variable 'layers/4/bias:0' shape=(49,) dtype=float32_ref>, <tf.Variable 'layers/5/kernel:0' shape=(49, 10) dtype=float32_ref>, <tf.Variable 'layers/5/bias:0' shape=(10,) dtype=float32_ref>, <tf.Variable 'beta1_power:0' shape=() dtype=float32_ref>, <tf.Variable 'beta2_power:0' shape=() dtype=float32_ref>, <tf.Variable 'layers/1/kernel/Adam:0' shape=(784, 392) dtype=float32_ref>, <tf.Variable 'layers/1/kernel/Adam_1:0' shape=(784, 392) dtype=float32_ref>, <tf.Variable 'layers/1/bias/Adam:0' shape=(392,) dtype=float32_ref>, <tf.Variable 'layers/1/bias/Adam_1:0' shape=(392,) dtype=float32_ref>, <tf.Variable 'layers/2/kernel/Adam:0' shape=(392, 196) dtype=float32_ref>, <tf.Variable 'layers/2/kernel/Adam_1:0' shape=(392, 196) dtype=float32_ref>, <tf.Variable 'layers/2/bias/Adam:0' shape=(196,) dtype=float32_ref>, <tf.Variable 'layers/2/bias/Adam_1:0' shape=(196,) dtype=float32_ref>, <tf.Variable 'layers/3/kernel/Adam:0' shape=(196, 98) dtype=float32_ref>, <tf.Variable 'layers/3/kernel/Adam_1:0' shape=(196, 98) dtype=float32_ref>, <tf.Variable 'layers/3/bias/Adam:0' shape=(98,) dtype=float32_ref>, <tf.Variable 'layers/3/bias/Adam_1:0' shape=(98,) dtype=float32_ref>, <tf.Variable 'layers/4/kernel/Adam:0' shape=(98, 49) dtype=float32_ref>, <tf.Variable 'layers/4/kernel/Adam_1:0' shape=(98, 49) dtype=float32_ref>, <tf.Variable 'layers/4/bias/Adam:0' shape=(49,) dtype=float32_ref>, <tf.Variable 'layers/4/bias/Adam_1:0' shape=(49,) dtype=float32_ref>, <tf.Variable 'layers/5/kernel/Adam:0' shape=(49, 10) dtype=float32_ref>, <tf.Variable 'layers/5/kernel/Adam_1:0' shape=(49, 10) dtype=float32_ref>, <tf.Variable 'layers/5/bias/Adam:0' shape=(10,) dtype=float32_ref>, <tf.Variable 'layers/5/bias/Adam_1:0' shape=(10,) dtype=float32_ref>]\n"
     ]
    }
   ],
   "source": [
    "model = mlp_classifier()\n",
    "print(tf.global_variables())\n"
   ]
  },
  {
   "cell_type": "code",
   "execution_count": 10,
   "metadata": {},
   "outputs": [],
   "source": [
    "TRAIN_BATCH_SIZE = 128\n",
    "ITERATIONS = 10000"
   ]
  },
  {
   "cell_type": "code",
   "execution_count": 11,
   "metadata": {},
   "outputs": [
    {
     "name": "stdout",
     "output_type": "stream",
     "text": [
      "Start Training\n",
      "Minibatch loss at step 0: 2.3698549270629883\n",
      "Minibatch loss at step 50: 1.0555980205535889\n",
      "Minibatch loss at step 100: 0.9189651608467102\n",
      "Minibatch loss at step 150: 0.7846083641052246\n",
      "Minibatch loss at step 200: 0.7380711436271667\n",
      "Minibatch loss at step 250: 0.5806199312210083\n",
      "Minibatch loss at step 300: 0.4004376232624054\n",
      "Minibatch loss at step 350: 0.6250846982002258\n",
      "Minibatch loss at step 400: 0.4929211437702179\n",
      "Minibatch loss at step 450: 0.398990273475647\n",
      "Minibatch loss at step 500: 0.5732243061065674\n",
      "Minibatch loss at step 550: 0.2662261724472046\n",
      "Minibatch loss at step 600: 0.3713781535625458\n",
      "Minibatch loss at step 650: 0.3083410859107971\n",
      "Minibatch loss at step 700: 0.3420518636703491\n",
      "Minibatch loss at step 750: 0.36967864632606506\n",
      "Minibatch loss at step 800: 0.2769264280796051\n",
      "Minibatch loss at step 850: 0.3058347702026367\n",
      "Minibatch loss at step 900: 0.32705920934677124\n",
      "Minibatch loss at step 950: 0.3534393310546875\n",
      "Minibatch loss at step 1000: 0.19933010637760162\n",
      "Minibatch loss at step 1050: 0.3327849209308624\n",
      "Minibatch loss at step 1100: 0.20311486721038818\n",
      "Minibatch loss at step 1150: 0.3339734673500061\n",
      "Minibatch loss at step 1200: 0.24979248642921448\n",
      "Minibatch loss at step 1250: 0.2959190607070923\n",
      "Minibatch loss at step 1300: 0.19085551798343658\n",
      "Minibatch loss at step 1350: 0.2847832143306732\n",
      "Minibatch loss at step 1400: 0.2515423893928528\n",
      "Minibatch loss at step 1450: 0.26849493384361267\n",
      "Minibatch loss at step 1500: 0.22247371077537537\n",
      "Minibatch loss at step 1550: 0.3365810215473175\n",
      "Minibatch loss at step 1600: 0.19896960258483887\n",
      "Minibatch loss at step 1650: 0.2084428071975708\n",
      "Minibatch loss at step 1700: 0.20547065138816833\n",
      "Minibatch loss at step 1750: 0.36388659477233887\n",
      "Minibatch loss at step 1800: 0.22496220469474792\n",
      "Minibatch loss at step 1850: 0.17964792251586914\n",
      "Minibatch loss at step 1900: 0.22471974790096283\n",
      "Minibatch loss at step 1950: 0.2729586660861969\n",
      "Minibatch loss at step 2000: 0.14158642292022705\n",
      "Minibatch loss at step 2050: 0.308109849691391\n",
      "Minibatch loss at step 2100: 0.25059258937835693\n",
      "Minibatch loss at step 2150: 0.2360893189907074\n",
      "Minibatch loss at step 2200: 0.1540706902742386\n",
      "Minibatch loss at step 2250: 0.2037096619606018\n",
      "Minibatch loss at step 2300: 0.2508960962295532\n",
      "Minibatch loss at step 2350: 0.20994727313518524\n",
      "Minibatch loss at step 2400: 0.26187577843666077\n",
      "Minibatch loss at step 2450: 0.13222728669643402\n",
      "Minibatch loss at step 2500: 0.34215787053108215\n",
      "Minibatch loss at step 2550: 0.24594108760356903\n",
      "Minibatch loss at step 2600: 0.18223462998867035\n",
      "Minibatch loss at step 2650: 0.30611881613731384\n",
      "Minibatch loss at step 2700: 0.1082211583852768\n",
      "Minibatch loss at step 2750: 0.22971537709236145\n",
      "Minibatch loss at step 2800: 0.11736546456813812\n",
      "Minibatch loss at step 2850: 0.1887257844209671\n",
      "Minibatch loss at step 2900: 0.2224620282649994\n",
      "Minibatch loss at step 2950: 0.1416148841381073\n",
      "Minibatch loss at step 3000: 0.20959272980690002\n",
      "Minibatch loss at step 3050: 0.2091675102710724\n",
      "Minibatch loss at step 3100: 0.1987009048461914\n",
      "Minibatch loss at step 3150: 0.10542885214090347\n",
      "Minibatch loss at step 3200: 0.20149318873882294\n",
      "Minibatch loss at step 3250: 0.10790624469518661\n",
      "Minibatch loss at step 3300: 0.17997586727142334\n",
      "Minibatch loss at step 3350: 0.11945994943380356\n",
      "Minibatch loss at step 3400: 0.13193869590759277\n",
      "Minibatch loss at step 3450: 0.10338303446769714\n",
      "Minibatch loss at step 3500: 0.16752594709396362\n",
      "Minibatch loss at step 3550: 0.1677132099866867\n",
      "Minibatch loss at step 3600: 0.20527738332748413\n",
      "Minibatch loss at step 3650: 0.13101056218147278\n",
      "Minibatch loss at step 3700: 0.23339147865772247\n",
      "Minibatch loss at step 3750: 0.10632302612066269\n",
      "Minibatch loss at step 3800: 0.12074679881334305\n",
      "Minibatch loss at step 3850: 0.12125173211097717\n",
      "Minibatch loss at step 3900: 0.2420872002840042\n",
      "Minibatch loss at step 3950: 0.15025077760219574\n",
      "Minibatch loss at step 4000: 0.09978164732456207\n",
      "Minibatch loss at step 4050: 0.1536904275417328\n",
      "Minibatch loss at step 4100: 0.13420729339122772\n",
      "Minibatch loss at step 4150: 0.09345962852239609\n",
      "Minibatch loss at step 4200: 0.22646524012088776\n",
      "Minibatch loss at step 4250: 0.14289012551307678\n",
      "Minibatch loss at step 4300: 0.18708762526512146\n",
      "Minibatch loss at step 4350: 0.09473078697919846\n",
      "Minibatch loss at step 4400: 0.11434967070817947\n",
      "Minibatch loss at step 4450: 0.16141776740550995\n",
      "Minibatch loss at step 4500: 0.11365067213773727\n",
      "Minibatch loss at step 4550: 0.18309800326824188\n",
      "Minibatch loss at step 4600: 0.09411333501338959\n",
      "Minibatch loss at step 4650: 0.21865710616111755\n",
      "Minibatch loss at step 4700: 0.16797785460948944\n",
      "Minibatch loss at step 4750: 0.11966697871685028\n",
      "Minibatch loss at step 4800: 0.18764272332191467\n",
      "Minibatch loss at step 4850: 0.07616245001554489\n",
      "Minibatch loss at step 4900: 0.17914575338363647\n",
      "Minibatch loss at step 4950: 0.08216270804405212\n",
      "Minibatch loss at step 5000: 0.14122694730758667\n",
      "Minibatch loss at step 5050: 0.158049076795578\n",
      "Minibatch loss at step 5100: 0.09123791009187698\n",
      "Minibatch loss at step 5150: 0.13892585039138794\n",
      "Minibatch loss at step 5200: 0.1525079905986786\n",
      "Minibatch loss at step 5250: 0.11217156052589417\n",
      "Minibatch loss at step 5300: 0.0738930031657219\n",
      "Minibatch loss at step 5350: 0.14101625978946686\n",
      "Minibatch loss at step 5400: 0.07377544045448303\n",
      "Minibatch loss at step 5450: 0.09871366620063782\n",
      "Minibatch loss at step 5500: 0.0904809832572937\n",
      "Minibatch loss at step 5550: 0.09327980875968933\n",
      "Minibatch loss at step 5600: 0.07930963486433029\n",
      "Minibatch loss at step 5650: 0.09862522780895233\n",
      "Minibatch loss at step 5700: 0.13756170868873596\n",
      "Minibatch loss at step 5750: 0.16761529445648193\n",
      "Minibatch loss at step 5800: 0.0964583232998848\n",
      "Minibatch loss at step 5850: 0.15308499336242676\n",
      "Minibatch loss at step 5900: 0.07783173769712448\n",
      "Minibatch loss at step 5950: 0.08448562026023865\n",
      "Minibatch loss at step 6000: 0.09346945583820343\n",
      "Minibatch loss at step 6050: 0.17717334628105164\n",
      "Minibatch loss at step 6100: 0.1072034239768982\n",
      "Minibatch loss at step 6150: 0.0676991194486618\n",
      "Minibatch loss at step 6200: 0.10008810460567474\n",
      "Minibatch loss at step 6250: 0.08332107216119766\n",
      "Minibatch loss at step 6300: 0.07682454586029053\n",
      "Minibatch loss at step 6350: 0.1840326488018036\n",
      "Minibatch loss at step 6400: 0.10975172370672226\n",
      "Minibatch loss at step 6450: 0.1595345288515091\n",
      "Minibatch loss at step 6500: 0.06912849843502045\n",
      "Minibatch loss at step 6550: 0.08433480560779572\n",
      "Minibatch loss at step 6600: 0.1097220927476883\n",
      "Minibatch loss at step 6650: 0.08284936845302582\n",
      "Minibatch loss at step 6700: 0.1413048505783081\n",
      "Minibatch loss at step 6750: 0.07431211322546005\n",
      "Minibatch loss at step 6800: 0.13472126424312592\n",
      "Minibatch loss at step 6850: 0.11876709759235382\n",
      "Minibatch loss at step 6900: 0.09381474554538727\n",
      "Minibatch loss at step 6950: 0.12452708929777145\n",
      "Minibatch loss at step 7000: 0.06095104664564133\n",
      "Minibatch loss at step 7050: 0.13919185101985931\n",
      "Minibatch loss at step 7100: 0.06321375072002411\n",
      "Minibatch loss at step 7150: 0.10175672173500061\n",
      "Minibatch loss at step 7200: 0.12472188472747803\n",
      "Minibatch loss at step 7250: 0.07011403143405914\n",
      "Minibatch loss at step 7300: 0.09080442786216736\n",
      "Minibatch loss at step 7350: 0.11850695312023163\n",
      "Minibatch loss at step 7400: 0.07351483404636383\n",
      "Minibatch loss at step 7450: 0.05879337713122368\n",
      "Minibatch loss at step 7500: 0.1031639352440834\n",
      "Minibatch loss at step 7550: 0.05912260338664055\n",
      "Minibatch loss at step 7600: 0.06680133938789368\n",
      "Minibatch loss at step 7650: 0.07544958591461182\n",
      "Minibatch loss at step 7700: 0.07501477748155594\n",
      "Minibatch loss at step 7750: 0.07089927792549133\n",
      "Minibatch loss at step 7800: 0.07184570282697678\n",
      "Minibatch loss at step 7850: 0.1265692412853241\n",
      "Minibatch loss at step 7900: 0.13397721946239471\n",
      "Minibatch loss at step 7950: 0.0735456719994545\n",
      "Minibatch loss at step 8000: 0.10256868600845337\n",
      "Minibatch loss at step 8050: 0.06392590701580048\n",
      "Minibatch loss at step 8100: 0.06530307233333588\n",
      "Minibatch loss at step 8150: 0.07894352078437805\n",
      "Minibatch loss at step 8200: 0.13675826787948608\n",
      "Minibatch loss at step 8250: 0.07850460708141327\n",
      "Minibatch loss at step 8300: 0.05684497952461243\n",
      "Minibatch loss at step 8350: 0.07536835968494415\n",
      "Minibatch loss at step 8400: 0.06493757665157318\n"
     ]
    },
    {
     "name": "stdout",
     "output_type": "stream",
     "text": [
      "Minibatch loss at step 8450: 0.06805247068405151\n",
      "Minibatch loss at step 8500: 0.14136841893196106\n",
      "Minibatch loss at step 8550: 0.08872969448566437\n",
      "Minibatch loss at step 8600: 0.12604032456874847\n",
      "Minibatch loss at step 8650: 0.057283733040094376\n",
      "Minibatch loss at step 8700: 0.07018151134252548\n",
      "Minibatch loss at step 8750: 0.08326907455921173\n",
      "Minibatch loss at step 8800: 0.06798677891492844\n",
      "Minibatch loss at step 8850: 0.11206655204296112\n",
      "Minibatch loss at step 8900: 0.0631711483001709\n",
      "Minibatch loss at step 8950: 0.09288255125284195\n",
      "Minibatch loss at step 9000: 0.08069358766078949\n",
      "Minibatch loss at step 9050: 0.07793664932250977\n",
      "Minibatch loss at step 9100: 0.08078113198280334\n",
      "Minibatch loss at step 9150: 0.05390135198831558\n",
      "Minibatch loss at step 9200: 0.09716109931468964\n",
      "Minibatch loss at step 9250: 0.056534312665462494\n",
      "Minibatch loss at step 9300: 0.07547704875469208\n",
      "Minibatch loss at step 9350: 0.100806325674057\n",
      "Minibatch loss at step 9400: 0.060509972274303436\n",
      "Minibatch loss at step 9450: 0.06644470989704132\n",
      "Minibatch loss at step 9500: 0.09246621280908585\n",
      "Minibatch loss at step 9550: 0.05993267893791199\n",
      "Minibatch loss at step 9600: 0.05185216665267944\n",
      "Minibatch loss at step 9650: 0.07793965935707092\n",
      "Minibatch loss at step 9700: 0.05221691355109215\n",
      "Minibatch loss at step 9750: 0.056238699704408646\n",
      "Minibatch loss at step 9800: 0.06614674627780914\n",
      "Minibatch loss at step 9850: 0.06411934643983841\n",
      "Minibatch loss at step 9900: 0.06302133202552795\n",
      "Minibatch loss at step 9950: 0.05985356867313385\n",
      "Training time: 193.90163803100586s\n"
     ]
    }
   ],
   "source": [
    "import time\n",
    "start_time = time.time()\n",
    "\n",
    "losses = model.train(training_images, training_labels, TRAIN_BATCH_SIZE, ITERATIONS)\n",
    "\n",
    "end_time = time.time()\n",
    "print(\"Training time: {}s\".format(end_time - start_time))"
   ]
  },
  {
   "cell_type": "code",
   "execution_count": 20,
   "metadata": {},
   "outputs": [
    {
     "name": "stdout",
     "output_type": "stream",
     "text": [
      "(200, 2)\n"
     ]
    },
    {
     "data": {
      "image/png": "[encoded data removed]",
      "text/plain": [
       "<Figure size 720x360 with 1 Axes>"
      ]
     },
     "metadata": {
      "needs_background": "light"
     },
     "output_type": "display_data"
    }
   ],
   "source": [
    "losses = np.array(losses)\n",
    "print(losses.shape)\n",
    "import matplotlib.pyplot as plt\n",
    "\n",
    "iterations = losses[:, 0]\n",
    "train_loss = losses[:, 1]\n",
    "plt.figure(figsize=(10, 5))\n",
    "plt.plot(iterations, train_loss)\n",
    "plt.xlabel(\"Iterations\")\n",
    "plt.ylabel(\"Loss\")\n",
    "plt.title(\"Training curve\")\n",
    "plt.show()"
   ]
  },
  {
   "cell_type": "code",
   "execution_count": 22,
   "metadata": {},
   "outputs": [
    {
     "name": "stdout",
     "output_type": "stream",
     "text": [
      "Average test loss: 0.11391542851924896\n"
     ]
    }
   ],
   "source": [
    "TEST_BATCH_SIZE = 128\n",
    "model.test(test_images, test_labels, TEST_BATCH_SIZE)"
   ]
  },
  {
   "cell_type": "code",
   "execution_count": 28,
   "metadata": {},
   "outputs": [
    {
     "data": {
      "text/plain": [
       "(10000, 784)"
      ]
     },
     "execution_count": 28,
     "metadata": {},
     "output_type": "execute_result"
    }
   ],
   "source": [
    "test_images.shape"
   ]
  },
  {
   "cell_type": "code",
   "execution_count": 44,
   "metadata": {},
   "outputs": [
    {
     "name": "stdout",
     "output_type": "stream",
     "text": [
      "Test sample digit: 7\n"
     ]
    },
    {
     "data": {
      "image/png": "[encoded data removed]",
      "text/plain": [
       "<Figure size 1224x360 with 2 Axes>"
      ]
     },
     "metadata": {
      "needs_background": "light"
     },
     "output_type": "display_data"
    },
    {
     "name": "stdout",
     "output_type": "stream",
     "text": [
      "Network prediction probabilities:\n",
      "[1.4949508e-05 5.0532122e-05 1.9854722e-04 2.3991475e-04 6.6208727e-06\n",
      " 9.4807792e-06 9.4892904e-08 9.9892682e-01 1.0495617e-05 5.4253987e-04]\n"
     ]
    }
   ],
   "source": [
    "n_test = test_images.shape[0]\n",
    "example = np.random.choice(np.arange(n_test))\n",
    "\n",
    "sample = np.expand_dims(test_images[example], axis=0)\n",
    "label = np.expand_dims(test_labels[example], axis=0)\n",
    "\n",
    "digit = np.where(label[0]==1.0)[0][0]\n",
    "\n",
    "feed_dict = {model.image: sample, model.true_label: label}\n",
    "prediction = model.sess.run(model.prediction, feed_dict=feed_dict)[0]\n",
    "\n",
    "image = np.reshape(sample, (28, 28))\n",
    "\n",
    "\n",
    "print(\"Test sample digit: {}\".format(digit))\n",
    "fig, ax = plt.subplots(1, 2, figsize=(17, 5))\n",
    "ax[0].imshow(image, cmap='gray')\n",
    "ax[0].set_title(\"Test example\")\n",
    "\n",
    "classes = np.arange(10)\n",
    "width = 1.0\n",
    "\n",
    "ax[1].bar(classes, prediction, width, color='Blue')\n",
    "ax[1].set_ylabel('Probabilities')\n",
    "ax[1].set_title('Network categorical distribution')\n",
    "ax[1].set_xticks(classes)\n",
    "ax[1].set_xticklabels(('0', '1', '2', '3', '4', '5', '6', '7', '8', '9'))\n",
    "ax[1].set_xlabel('Digit class')\n",
    "\n",
    "plt.show()\n",
    "\n",
    "print(\"Network prediction probabilities:\")\n",
    "print(prediction)"
   ]
  },
  {
   "cell_type": "code",
   "execution_count": null,
   "metadata": {},
   "outputs": [],
   "source": [
    "\n"
   ]
  },
  {
   "cell_type": "code",
   "execution_count": null,
   "metadata": {},
   "outputs": [],
   "source": []
  }
 ],
 "metadata": {
  "kernelspec": {
   "display_name": "Python 3",
   "language": "python",
   "name": "python3"
  },
  "language_info": {
   "codemirror_mode": {
    "name": "ipython",
    "version": 3
   },
   "file_extension": ".py",
   "mimetype": "text/x-python",
   "name": "python",
   "nbconvert_exporter": "python",
   "pygments_lexer": "ipython3",
   "version": "3.6.6"
  }
 },
 "nbformat": 4,
 "nbformat_minor": 2
}
