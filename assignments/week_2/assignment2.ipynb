{
 "cells": [
  {
   "cell_type": "code",
   "execution_count": 4,
   "metadata": {},
   "outputs": [],
   "source": [
    "import numpy as np\n",
    "import pandas as pd\n",
    "import tensorflow as tf\n",
    "import os\n",
    "import matplotlib.pyplot as plt"
   ]
  },
  {
   "cell_type": "code",
   "execution_count": 5,
   "metadata": {},
   "outputs": [
    {
     "name": "stdout",
     "output_type": "stream",
     "text": [
      "/Users/lm2612/Documents/PhD/DeepLearning/coursework/dl-imperial-maths/assignments/week_2\n"
     ]
    }
   ],
   "source": [
    "print(os.getcwd())"
   ]
  },
  {
   "cell_type": "code",
   "execution_count": 6,
   "metadata": {},
   "outputs": [],
   "source": [
    "mnist_dir = 'mnist/'\n",
    "train = mnist_dir+'t10k-images.idx3-ubyte'"
   ]
  },
  {
   "cell_type": "code",
   "execution_count": 7,
   "metadata": {},
   "outputs": [
    {
     "data": {
      "text/plain": [
       "<function tensorflow.contrib.learn.python.learn.datasets.mnist.read_data_sets(train_dir, fake_data=False, one_hot=False, dtype=tf.float32, reshape=True, validation_size=5000, seed=None, source_url='https://storage.googleapis.com/cvdf-datasets/mnist/')>"
      ]
     },
     "execution_count": 7,
     "metadata": {},
     "output_type": "execute_result"
    }
   ],
   "source": [
    "from tensorflow.examples.tutorials.mnist import input_data\n",
    "input_data.read_data_sets"
   ]
  },
  {
   "cell_type": "code",
   "execution_count": 8,
   "metadata": {},
   "outputs": [
    {
     "name": "stdout",
     "output_type": "stream",
     "text": [
      "WARNING:tensorflow:From <ipython-input-8-a839aeb82f4b>:1: read_data_sets (from tensorflow.contrib.learn.python.learn.datasets.mnist) is deprecated and will be removed in a future version.\n",
      "Instructions for updating:\n",
      "Please use alternatives such as official/mnist/dataset.py from tensorflow/models.\n",
      "WARNING:tensorflow:From /anaconda3/envs/tensorflow_env/lib/python3.6/site-packages/tensorflow/contrib/learn/python/learn/datasets/mnist.py:260: maybe_download (from tensorflow.contrib.learn.python.learn.datasets.base) is deprecated and will be removed in a future version.\n",
      "Instructions for updating:\n",
      "Please write your own downloading logic.\n",
      "WARNING:tensorflow:From /anaconda3/envs/tensorflow_env/lib/python3.6/site-packages/tensorflow/contrib/learn/python/learn/datasets/base.py:252: _internal_retry.<locals>.wrap.<locals>.wrapped_fn (from tensorflow.contrib.learn.python.learn.datasets.base) is deprecated and will be removed in a future version.\n",
      "Instructions for updating:\n",
      "Please use urllib or similar directly.\n",
      "Successfully downloaded train-images-idx3-ubyte.gz 9912422 bytes.\n",
      "WARNING:tensorflow:From /anaconda3/envs/tensorflow_env/lib/python3.6/site-packages/tensorflow/contrib/learn/python/learn/datasets/mnist.py:262: extract_images (from tensorflow.contrib.learn.python.learn.datasets.mnist) is deprecated and will be removed in a future version.\n",
      "Instructions for updating:\n",
      "Please use tf.data to implement this functionality.\n",
      "Extracting MNIST_data/train-images-idx3-ubyte.gz\n",
      "WARNING:tensorflow:From /anaconda3/envs/tensorflow_env/lib/python3.6/site-packages/tensorflow/contrib/learn/python/learn/datasets/mnist.py:267: extract_labels (from tensorflow.contrib.learn.python.learn.datasets.mnist) is deprecated and will be removed in a future version.\n",
      "Instructions for updating:\n",
      "Please use tf.data to implement this functionality.\n",
      "Extracting MNIST_data/train-labels-idx1-ubyte.gz\n",
      "WARNING:tensorflow:From /anaconda3/envs/tensorflow_env/lib/python3.6/site-packages/tensorflow/contrib/learn/python/learn/datasets/mnist.py:110: dense_to_one_hot (from tensorflow.contrib.learn.python.learn.datasets.mnist) is deprecated and will be removed in a future version.\n",
      "Instructions for updating:\n",
      "Please use tf.one_hot on tensors.\n",
      "Extracting MNIST_data/t10k-images-idx3-ubyte.gz\n",
      "Extracting MNIST_data/t10k-labels-idx1-ubyte.gz\n",
      "WARNING:tensorflow:From /anaconda3/envs/tensorflow_env/lib/python3.6/site-packages/tensorflow/contrib/learn/python/learn/datasets/mnist.py:290: DataSet.__init__ (from tensorflow.contrib.learn.python.learn.datasets.mnist) is deprecated and will be removed in a future version.\n",
      "Instructions for updating:\n",
      "Please use alternatives such as official/mnist/dataset.py from tensorflow/models.\n"
     ]
    }
   ],
   "source": [
    "mnist = input_data.read_data_sets(\"MNIST_data/\", one_hot=True)"
   ]
  },
  {
   "cell_type": "code",
   "execution_count": 9,
   "metadata": {},
   "outputs": [],
   "source": [
    "training_images = mnist.train.images\n",
    "training_labels = mnist.train.labels\n",
    "test_images = mnist.test.images\n",
    "test_labels = mnist.test.labels\n",
    "validation_images = mnist.validation.images\n",
    "validation_labels = mnist.validation.labels"
   ]
  },
  {
   "cell_type": "code",
   "execution_count": 10,
   "metadata": {},
   "outputs": [
    {
     "data": {
      "text/plain": [
       "<matplotlib.contour.QuadContourSet at 0xb4003c240>"
      ]
     },
     "execution_count": 10,
     "metadata": {},
     "output_type": "execute_result"
    },
    {
     "data": {
      "image/png": "[encoded data removed]",
      "text/plain": [
       "<Figure size 432x288 with 1 Axes>"
      ]
     },
     "metadata": {
      "needs_background": "light"
     },
     "output_type": "display_data"
    }
   ],
   "source": [
    "example = training_images[1,:]\n",
    "example = np.reshape(example,(28,28))\n",
    "plt.contourf(example)"
   ]
  },
  {
   "cell_type": "code",
   "execution_count": 11,
   "metadata": {},
   "outputs": [],
   "source": [
    "class mlp_classifier():\n",
    "    \"\"\" multilayer perceptron classifer designed classifying the mnist dataset\n",
    "    takes in images and classifies the label\"\"\"\n",
    "    def __init__(self,wd_factor=0.0001,learning_rate=0.0001,\n",
    "                 n_layers=5,nodes_per_layer=[392,196,98,49]):\n",
    "        self.wd_factor = wd_factor\n",
    "        self.learning_rate = learning_rate\n",
    "        self.n_layers = n_layers\n",
    "        self.nodes_per_layer = nodes_per_layer\n",
    "        #assert (n_layers==len(nodes_per_layer))\n",
    "        self.sess = tf.Session()\n",
    "        # set placeholders for our data\n",
    "        self.image = tf.placeholder(dtype=tf.float32, shape=[None, 784], name='image')\n",
    "        self.true_label = tf.placeholder(dtype=tf.float32,shape=[None,10],name='label')\n",
    "        self._build_graph()\n",
    "        \n",
    "        self.train_pointer = 0\n",
    "        self.test_pointer = 0\n",
    "        \n",
    "        \n",
    "    def _build_graph(self):   \n",
    "        n_layers = self.n_layers\n",
    "        nodes_per_layer = self.nodes_per_layer\n",
    "        print('Building graph with {} layers, with {} nodes '.format(n_layers,nodes_per_layer))\n",
    "        with tf.variable_scope('layers'):\n",
    "            h = tf.layers.dense(self.image, nodes_per_layer[0], \n",
    "                                kernel_initializer=tf.glorot_uniform_initializer(), \n",
    "                                activation=tf.tanh, name='1',reuse=tf.AUTO_REUSE)\n",
    "            print(h)\n",
    "            # Loop over all layers specified\n",
    "            for i in range(1,n_layers-1):    \n",
    "                h = tf.layers.dense(h, nodes_per_layer[i], \n",
    "                                    kernel_initializer=tf.glorot_uniform_initializer(), \n",
    "                                activation=tf.tanh, name=str(i+1),reuse=tf.AUTO_REUSE)\n",
    "                print(h)\n",
    "            \n",
    "            # our final layer with 10 logits\n",
    "            self.logits = tf.layers.dense(h, 10, \n",
    "                                          kernel_initializer=tf.glorot_uniform_initializer(), \n",
    "                                          activation=tf.identity, name=str(n_layers),reuse=tf.AUTO_REUSE)\n",
    "            print(self.logits)\n",
    "            self.prediction = tf.nn.softmax(self.logits, name='softmax_prediction')\n",
    "            \n",
    "        with tf.name_scope('loss'):\n",
    "            self.loss = tf.reduce_mean(tf.nn.softmax_cross_entropy_with_logits_v2(logits=self.logits, \n",
    "                                                                                  labels=self.true_label))\n",
    "            self.loss += self.weight_decay()\n",
    "            \n",
    "        self.optimizer = tf.train.AdamOptimizer(self.learning_rate)\n",
    "        self.train_op = self.optimizer.minimize(self.loss)\n",
    "        \n",
    "    def weight_decay(self):\n",
    "        loss = 0\n",
    "        for v in tf.global_variables():\n",
    "            if 'Adam' in v.name:\n",
    "                continue\n",
    "            elif 'kernel' in v.name:\n",
    "                loss += self.wd_factor * tf.nn.l2_loss(v)\n",
    "        print(loss)\n",
    "        return loss\n",
    "        \n",
    "    def train_minibatch(self, samples, labels, batch_size):\n",
    "        if self.train_pointer + batch_size <= samples.shape[0]:\n",
    "            samples_minibatch = samples[self.train_pointer: self.train_pointer + batch_size]\n",
    "            labels_minibatch = labels[self.train_pointer: self.train_pointer + batch_size]\n",
    "            self.train_pointer += batch_size\n",
    "        else:\n",
    "            samples_minibatch = samples[self.train_pointer:]\n",
    "            labels_minibatch = labels[self.train_pointer: self.train_pointer + batch_size]\n",
    "            self.train_pointer = 0\n",
    "        return samples_minibatch, labels_minibatch\n",
    "\n",
    "    def train(self, train_samples, train_labels, train_batch_size, iteration_steps):\n",
    "        self.sess.run(tf.global_variables_initializer())\n",
    "\n",
    "        print('Start Training')\n",
    "        losses = []\n",
    "        for i in range(iteration_steps):\n",
    "            samples, labels = self.train_minibatch(train_samples, train_labels, train_batch_size)\n",
    "            feed_dict = {self.image: samples, self.true_label: labels}\n",
    "            _, loss = self.sess.run([self.train_op, self.loss], feed_dict=feed_dict)\n",
    "            if i % 50 == 0:\n",
    "                print(\"Minibatch loss at step {}: {}\".format(i, loss))\n",
    "                losses.append([i, loss])\n",
    "        return losses\n",
    "                    \n",
    "    def test_minibatch(self, samples, labels, batch_size):\n",
    "        if self.test_pointer + batch_size <= samples.shape[0]:\n",
    "            samples_minibatch = samples[self.test_pointer: self.test_pointer + batch_size]\n",
    "            labels_minibatch = labels[self.test_pointer: self.test_pointer + batch_size]\n",
    "            self.test_pointer += batch_size\n",
    "            end_of_epoch = False\n",
    "        else:\n",
    "            samples_minibatch = samples[self.test_pointer:]\n",
    "            labels_minibatch = labels[self.test_pointer: self.test_pointer + batch_size]\n",
    "            self.test_pointer = 0\n",
    "            end_of_epoch = True\n",
    "        return samples_minibatch, labels_minibatch, end_of_epoch\n",
    "            \n",
    "    def test(self, test_samples, test_labels, test_batch_size):\n",
    "        end_of_epoch = False\n",
    "        losses = []\n",
    "        while not end_of_epoch:\n",
    "            samples, labels, end_of_epoch = self.test_minibatch(test_samples, test_labels, test_batch_size)\n",
    "            feed_dict = {self.image: samples, self.true_label: labels}\n",
    "            loss_value = self.sess.run(self.loss, feed_dict=feed_dict)\n",
    "            losses.append(loss_value)  \n",
    "        print(\"Average test loss: {}\".format(np.mean(losses)))\n",
    "        return(losses)\n",
    "        "
   ]
  },
  {
   "cell_type": "code",
   "execution_count": 12,
   "metadata": {},
   "outputs": [
    {
     "name": "stdout",
     "output_type": "stream",
     "text": [
      "Building graph with 5 layers, with [392, 196, 98, 49] nodes \n",
      "Tensor(\"layers/1/Tanh:0\", shape=(?, 392), dtype=float32)\n",
      "Tensor(\"layers/2/Tanh:0\", shape=(?, 196), dtype=float32)\n",
      "Tensor(\"layers/3/Tanh:0\", shape=(?, 98), dtype=float32)\n",
      "Tensor(\"layers/4/Tanh:0\", shape=(?, 49), dtype=float32)\n",
      "Tensor(\"layers/5/Identity:0\", shape=(?, 10), dtype=float32)\n",
      "Tensor(\"loss/add_4:0\", shape=(), dtype=float32)\n",
      "[<tf.Variable 'layers/1/kernel:0' shape=(784, 392) dtype=float32_ref>, <tf.Variable 'layers/1/bias:0' shape=(392,) dtype=float32_ref>, <tf.Variable 'layers/2/kernel:0' shape=(392, 196) dtype=float32_ref>, <tf.Variable 'layers/2/bias:0' shape=(196,) dtype=float32_ref>, <tf.Variable 'layers/3/kernel:0' shape=(196, 98) dtype=float32_ref>, <tf.Variable 'layers/3/bias:0' shape=(98,) dtype=float32_ref>, <tf.Variable 'layers/4/kernel:0' shape=(98, 49) dtype=float32_ref>, <tf.Variable 'layers/4/bias:0' shape=(49,) dtype=float32_ref>, <tf.Variable 'layers/5/kernel:0' shape=(49, 10) dtype=float32_ref>, <tf.Variable 'layers/5/bias:0' shape=(10,) dtype=float32_ref>, <tf.Variable 'beta1_power:0' shape=() dtype=float32_ref>, <tf.Variable 'beta2_power:0' shape=() dtype=float32_ref>, <tf.Variable 'layers/1/kernel/Adam:0' shape=(784, 392) dtype=float32_ref>, <tf.Variable 'layers/1/kernel/Adam_1:0' shape=(784, 392) dtype=float32_ref>, <tf.Variable 'layers/1/bias/Adam:0' shape=(392,) dtype=float32_ref>, <tf.Variable 'layers/1/bias/Adam_1:0' shape=(392,) dtype=float32_ref>, <tf.Variable 'layers/2/kernel/Adam:0' shape=(392, 196) dtype=float32_ref>, <tf.Variable 'layers/2/kernel/Adam_1:0' shape=(392, 196) dtype=float32_ref>, <tf.Variable 'layers/2/bias/Adam:0' shape=(196,) dtype=float32_ref>, <tf.Variable 'layers/2/bias/Adam_1:0' shape=(196,) dtype=float32_ref>, <tf.Variable 'layers/3/kernel/Adam:0' shape=(196, 98) dtype=float32_ref>, <tf.Variable 'layers/3/kernel/Adam_1:0' shape=(196, 98) dtype=float32_ref>, <tf.Variable 'layers/3/bias/Adam:0' shape=(98,) dtype=float32_ref>, <tf.Variable 'layers/3/bias/Adam_1:0' shape=(98,) dtype=float32_ref>, <tf.Variable 'layers/4/kernel/Adam:0' shape=(98, 49) dtype=float32_ref>, <tf.Variable 'layers/4/kernel/Adam_1:0' shape=(98, 49) dtype=float32_ref>, <tf.Variable 'layers/4/bias/Adam:0' shape=(49,) dtype=float32_ref>, <tf.Variable 'layers/4/bias/Adam_1:0' shape=(49,) dtype=float32_ref>, <tf.Variable 'layers/5/kernel/Adam:0' shape=(49, 10) dtype=float32_ref>, <tf.Variable 'layers/5/kernel/Adam_1:0' shape=(49, 10) dtype=float32_ref>, <tf.Variable 'layers/5/bias/Adam:0' shape=(10,) dtype=float32_ref>, <tf.Variable 'layers/5/bias/Adam_1:0' shape=(10,) dtype=float32_ref>]\n"
     ]
    }
   ],
   "source": [
    "model = mlp_classifier()\n",
    "print(tf.global_variables())\n"
   ]
  },
  {
   "cell_type": "code",
   "execution_count": 13,
   "metadata": {},
   "outputs": [],
   "source": [
    "TRAIN_BATCH_SIZE = 128\n",
    "ITERATIONS = 10000"
   ]
  },
  {
   "cell_type": "code",
   "execution_count": 14,
   "metadata": {},
   "outputs": [
    {
     "name": "stdout",
     "output_type": "stream",
     "text": [
      "Start Training\n",
      "Minibatch loss at step 0: 2.4271745681762695\n",
      "Minibatch loss at step 50: 1.113388180732727\n",
      "Minibatch loss at step 100: 0.9009740948677063\n",
      "Minibatch loss at step 150: 0.7291676998138428\n",
      "Minibatch loss at step 200: 0.7025150060653687\n",
      "Minibatch loss at step 250: 0.5746921300888062\n",
      "Minibatch loss at step 300: 0.3765239715576172\n",
      "Minibatch loss at step 350: 0.5573058128356934\n",
      "Minibatch loss at step 400: 0.48338061571121216\n",
      "Minibatch loss at step 450: 0.36787450313568115\n",
      "Minibatch loss at step 500: 0.5859119296073914\n",
      "Minibatch loss at step 550: 0.253471314907074\n",
      "Minibatch loss at step 600: 0.3716079890727997\n",
      "Minibatch loss at step 650: 0.32317137718200684\n",
      "Minibatch loss at step 700: 0.3412870168685913\n",
      "Minibatch loss at step 750: 0.38492581248283386\n",
      "Minibatch loss at step 800: 0.2671241760253906\n",
      "Minibatch loss at step 850: 0.2793968617916107\n",
      "Minibatch loss at step 900: 0.33949410915374756\n",
      "Minibatch loss at step 950: 0.3597847819328308\n",
      "Minibatch loss at step 1000: 0.21699096262454987\n",
      "Minibatch loss at step 1050: 0.33520299196243286\n",
      "Minibatch loss at step 1100: 0.1855139136314392\n",
      "Minibatch loss at step 1150: 0.35755953192710876\n",
      "Minibatch loss at step 1200: 0.2412891685962677\n",
      "Minibatch loss at step 1250: 0.30516400933265686\n",
      "Minibatch loss at step 1300: 0.18486544489860535\n",
      "Minibatch loss at step 1350: 0.2697049379348755\n",
      "Minibatch loss at step 1400: 0.25200316309928894\n",
      "Minibatch loss at step 1450: 0.2848742604255676\n",
      "Minibatch loss at step 1500: 0.2460358887910843\n",
      "Minibatch loss at step 1550: 0.3221158981323242\n",
      "Minibatch loss at step 1600: 0.18902602791786194\n",
      "Minibatch loss at step 1650: 0.20442941784858704\n",
      "Minibatch loss at step 1700: 0.21964439749717712\n",
      "Minibatch loss at step 1750: 0.3927876353263855\n",
      "Minibatch loss at step 1800: 0.21294739842414856\n",
      "Minibatch loss at step 1850: 0.17690788209438324\n",
      "Minibatch loss at step 1900: 0.2055519074201584\n",
      "Minibatch loss at step 1950: 0.2699034810066223\n",
      "Minibatch loss at step 2000: 0.15943129360675812\n",
      "Minibatch loss at step 2050: 0.3064478635787964\n",
      "Minibatch loss at step 2100: 0.24257893860340118\n",
      "Minibatch loss at step 2150: 0.2198658287525177\n",
      "Minibatch loss at step 2200: 0.15519343316555023\n",
      "Minibatch loss at step 2250: 0.21442213654518127\n",
      "Minibatch loss at step 2300: 0.24890127778053284\n",
      "Minibatch loss at step 2350: 0.22631433606147766\n",
      "Minibatch loss at step 2400: 0.24073085188865662\n",
      "Minibatch loss at step 2450: 0.11465184390544891\n",
      "Minibatch loss at step 2500: 0.31728395819664\n",
      "Minibatch loss at step 2550: 0.2339707911014557\n",
      "Minibatch loss at step 2600: 0.18536517024040222\n",
      "Minibatch loss at step 2650: 0.29240792989730835\n",
      "Minibatch loss at step 2700: 0.10306541621685028\n",
      "Minibatch loss at step 2750: 0.2512480318546295\n",
      "Minibatch loss at step 2800: 0.13258343935012817\n",
      "Minibatch loss at step 2850: 0.21235181391239166\n",
      "Minibatch loss at step 2900: 0.20677034556865692\n",
      "Minibatch loss at step 2950: 0.1477433145046234\n",
      "Minibatch loss at step 3000: 0.17724892497062683\n",
      "Minibatch loss at step 3050: 0.2066526561975479\n",
      "Minibatch loss at step 3100: 0.19540518522262573\n",
      "Minibatch loss at step 3150: 0.11526423692703247\n",
      "Minibatch loss at step 3200: 0.21469080448150635\n",
      "Minibatch loss at step 3250: 0.10727749019861221\n",
      "Minibatch loss at step 3300: 0.1990651786327362\n",
      "Minibatch loss at step 3350: 0.1274598240852356\n",
      "Minibatch loss at step 3400: 0.13659316301345825\n",
      "Minibatch loss at step 3450: 0.10815887153148651\n",
      "Minibatch loss at step 3500: 0.16154660284519196\n",
      "Minibatch loss at step 3550: 0.16677504777908325\n",
      "Minibatch loss at step 3600: 0.2257579267024994\n",
      "Minibatch loss at step 3650: 0.1346195638179779\n",
      "Minibatch loss at step 3700: 0.20625396072864532\n",
      "Minibatch loss at step 3750: 0.10868905484676361\n",
      "Minibatch loss at step 3800: 0.12555523216724396\n",
      "Minibatch loss at step 3850: 0.13525965809822083\n",
      "Minibatch loss at step 3900: 0.2551230788230896\n",
      "Minibatch loss at step 3950: 0.14860396087169647\n",
      "Minibatch loss at step 4000: 0.10702395439147949\n",
      "Minibatch loss at step 4050: 0.13422951102256775\n",
      "Minibatch loss at step 4100: 0.13979552686214447\n",
      "Minibatch loss at step 4150: 0.10235614329576492\n",
      "Minibatch loss at step 4200: 0.207458958029747\n",
      "Minibatch loss at step 4250: 0.16129520535469055\n",
      "Minibatch loss at step 4300: 0.16881859302520752\n",
      "Minibatch loss at step 4350: 0.0905151218175888\n",
      "Minibatch loss at step 4400: 0.12580937147140503\n",
      "Minibatch loss at step 4450: 0.1707969605922699\n",
      "Minibatch loss at step 4500: 0.1295166313648224\n",
      "Minibatch loss at step 4550: 0.16515019536018372\n",
      "Minibatch loss at step 4600: 0.09174961596727371\n",
      "Minibatch loss at step 4650: 0.20256629586219788\n",
      "Minibatch loss at step 4700: 0.16571827232837677\n",
      "Minibatch loss at step 4750: 0.13108134269714355\n",
      "Minibatch loss at step 4800: 0.18117588758468628\n",
      "Minibatch loss at step 4850: 0.0738687664270401\n",
      "Minibatch loss at step 4900: 0.2040993571281433\n",
      "Minibatch loss at step 4950: 0.08681976795196533\n",
      "Minibatch loss at step 5000: 0.1667705923318863\n",
      "Minibatch loss at step 5050: 0.13423886895179749\n",
      "Minibatch loss at step 5100: 0.10911636054515839\n",
      "Minibatch loss at step 5150: 0.12164025008678436\n",
      "Minibatch loss at step 5200: 0.13646185398101807\n",
      "Minibatch loss at step 5250: 0.12101738154888153\n",
      "Minibatch loss at step 5300: 0.08920402824878693\n",
      "Minibatch loss at step 5350: 0.1549854278564453\n",
      "Minibatch loss at step 5400: 0.07574942708015442\n",
      "Minibatch loss at step 5450: 0.12391707301139832\n",
      "Minibatch loss at step 5500: 0.09876592457294464\n",
      "Minibatch loss at step 5550: 0.09631560742855072\n",
      "Minibatch loss at step 5600: 0.0855102688074112\n",
      "Minibatch loss at step 5650: 0.1029609739780426\n",
      "Minibatch loss at step 5700: 0.13619188964366913\n",
      "Minibatch loss at step 5750: 0.17841967940330505\n",
      "Minibatch loss at step 5800: 0.09202511608600616\n",
      "Minibatch loss at step 5850: 0.139651358127594\n",
      "Minibatch loss at step 5900: 0.08359496295452118\n",
      "Minibatch loss at step 5950: 0.09148405492305756\n",
      "Minibatch loss at step 6000: 0.10387609899044037\n",
      "Minibatch loss at step 6050: 0.17835809290409088\n",
      "Minibatch loss at step 6100: 0.11054575443267822\n",
      "Minibatch loss at step 6150: 0.07698851823806763\n",
      "Minibatch loss at step 6200: 0.10365079343318939\n",
      "Minibatch loss at step 6250: 0.08485093712806702\n",
      "Minibatch loss at step 6300: 0.07868590205907822\n",
      "Minibatch loss at step 6350: 0.14782756567001343\n",
      "Minibatch loss at step 6400: 0.10700377821922302\n",
      "Minibatch loss at step 6450: 0.14030799269676208\n",
      "Minibatch loss at step 6500: 0.0665663480758667\n",
      "Minibatch loss at step 6550: 0.08748482912778854\n",
      "Minibatch loss at step 6600: 0.11698044836521149\n",
      "Minibatch loss at step 6650: 0.09065526723861694\n",
      "Minibatch loss at step 6700: 0.12621447443962097\n",
      "Minibatch loss at step 6750: 0.07544919848442078\n",
      "Minibatch loss at step 6800: 0.130164235830307\n",
      "Minibatch loss at step 6850: 0.11641192436218262\n",
      "Minibatch loss at step 6900: 0.09719163179397583\n",
      "Minibatch loss at step 6950: 0.12473393976688385\n",
      "Minibatch loss at step 7000: 0.06169670820236206\n",
      "Minibatch loss at step 7050: 0.14541694521903992\n",
      "Minibatch loss at step 7100: 0.06827464699745178\n",
      "Minibatch loss at step 7150: 0.1260794699192047\n",
      "Minibatch loss at step 7200: 0.1029086709022522\n",
      "Minibatch loss at step 7250: 0.08002930879592896\n",
      "Minibatch loss at step 7300: 0.08690335601568222\n",
      "Minibatch loss at step 7350: 0.10480080544948578\n",
      "Minibatch loss at step 7400: 0.08443831652402878\n",
      "Minibatch loss at step 7450: 0.07216335833072662\n",
      "Minibatch loss at step 7500: 0.09990832954645157\n",
      "Minibatch loss at step 7550: 0.06060843914747238\n",
      "Minibatch loss at step 7600: 0.08180246502161026\n",
      "Minibatch loss at step 7650: 0.07774066179990768\n",
      "Minibatch loss at step 7700: 0.07793843001127243\n",
      "Minibatch loss at step 7750: 0.07128843665122986\n",
      "Minibatch loss at step 7800: 0.0741269588470459\n",
      "Minibatch loss at step 7850: 0.1192115843296051\n",
      "Minibatch loss at step 7900: 0.14372971653938293\n",
      "Minibatch loss at step 7950: 0.07032544910907745\n",
      "Minibatch loss at step 8000: 0.09930650889873505\n",
      "Minibatch loss at step 8050: 0.06815356016159058\n",
      "Minibatch loss at step 8100: 0.07598243653774261\n",
      "Minibatch loss at step 8150: 0.0852823480963707\n",
      "Minibatch loss at step 8200: 0.13233184814453125\n",
      "Minibatch loss at step 8250: 0.08157621324062347\n",
      "Minibatch loss at step 8300: 0.061013344675302505\n",
      "Minibatch loss at step 8350: 0.08845174312591553\n",
      "Minibatch loss at step 8400: 0.06369967758655548\n"
     ]
    },
    {
     "name": "stdout",
     "output_type": "stream",
     "text": [
      "Minibatch loss at step 8450: 0.06540171802043915\n",
      "Minibatch loss at step 8500: 0.1180509626865387\n",
      "Minibatch loss at step 8550: 0.07750417292118073\n",
      "Minibatch loss at step 8600: 0.10893876105546951\n",
      "Minibatch loss at step 8650: 0.0570811852812767\n",
      "Minibatch loss at step 8700: 0.06854303181171417\n",
      "Minibatch loss at step 8750: 0.08134327828884125\n",
      "Minibatch loss at step 8800: 0.07219976931810379\n",
      "Minibatch loss at step 8850: 0.10045275092124939\n",
      "Minibatch loss at step 8900: 0.0637008398771286\n",
      "Minibatch loss at step 8950: 0.09461896866559982\n",
      "Minibatch loss at step 9000: 0.07787060737609863\n",
      "Minibatch loss at step 9050: 0.07465270161628723\n",
      "Minibatch loss at step 9100: 0.08188946545124054\n",
      "Minibatch loss at step 9150: 0.053791336715221405\n",
      "Minibatch loss at step 9200: 0.096469946205616\n",
      "Minibatch loss at step 9250: 0.057516131550073624\n",
      "Minibatch loss at step 9300: 0.08637116849422455\n",
      "Minibatch loss at step 9350: 0.08567552268505096\n",
      "Minibatch loss at step 9400: 0.06316947937011719\n",
      "Minibatch loss at step 9450: 0.06572908163070679\n",
      "Minibatch loss at step 9500: 0.08576864749193192\n",
      "Minibatch loss at step 9550: 0.06710892170667648\n",
      "Minibatch loss at step 9600: 0.05713221803307533\n",
      "Minibatch loss at step 9650: 0.07264691591262817\n",
      "Minibatch loss at step 9700: 0.05382544547319412\n",
      "Minibatch loss at step 9750: 0.06300795823335648\n",
      "Minibatch loss at step 9800: 0.06318822503089905\n",
      "Minibatch loss at step 9850: 0.06495897471904755\n",
      "Minibatch loss at step 9900: 0.061145685613155365\n",
      "Minibatch loss at step 9950: 0.06121645122766495\n",
      "Training time: 174.15390014648438s\n"
     ]
    }
   ],
   "source": [
    "import time\n",
    "start_time = time.time()\n",
    "\n",
    "losses = model.train(training_images, training_labels, TRAIN_BATCH_SIZE, ITERATIONS)\n",
    "\n",
    "end_time = time.time()\n",
    "print(\"Training time: {}s\".format(end_time - start_time))"
   ]
  },
  {
   "cell_type": "code",
   "execution_count": 15,
   "metadata": {},
   "outputs": [
    {
     "name": "stdout",
     "output_type": "stream",
     "text": [
      "(200, 2)\n"
     ]
    },
    {
     "data": {
      "image/png": "[encoded data removed]",
      "text/plain": [
       "<Figure size 720x360 with 1 Axes>"
      ]
     },
     "metadata": {
      "needs_background": "light"
     },
     "output_type": "display_data"
    }
   ],
   "source": [
    "losses = np.array(losses)\n",
    "print(losses.shape)\n",
    "import matplotlib.pyplot as plt\n",
    "\n",
    "iterations = losses[:, 0]\n",
    "train_loss = losses[:, 1]\n",
    "plt.figure(figsize=(10, 5))\n",
    "plt.plot(iterations, train_loss)\n",
    "plt.xlabel(\"Iterations\")\n",
    "plt.ylabel(\"Loss\")\n",
    "plt.title(\"Training curve\")\n",
    "plt.show()"
   ]
  },
  {
   "cell_type": "code",
   "execution_count": 16,
   "metadata": {},
   "outputs": [
    {
     "name": "stdout",
     "output_type": "stream",
     "text": [
      "Average test loss: 0.11930451542139053\n"
     ]
    }
   ],
   "source": [
    "TEST_BATCH_SIZE = 128\n",
    "loss = model.test(test_images, test_labels, TEST_BATCH_SIZE)"
   ]
  },
  {
   "cell_type": "code",
   "execution_count": 21,
   "metadata": {},
   "outputs": [
    {
     "data": {
      "text/plain": [
       "[<matplotlib.lines.Line2D at 0xb4793a2b0>]"
      ]
     },
     "execution_count": 21,
     "metadata": {},
     "output_type": "execute_result"
    },
    {
     "data": {
      "image/png": "[encoded data removed]",
      "text/plain": [
       "<Figure size 432x288 with 1 Axes>"
      ]
     },
     "metadata": {
      "needs_background": "light"
     },
     "output_type": "display_data"
    }
   ],
   "source": [
    "plt.plot(loss)"
   ]
  },
  {
   "cell_type": "markdown",
   "metadata": {},
   "source": [
    "128*80\n"
   ]
  },
  {
   "cell_type": "markdown",
   "metadata": {},
   "source": [
    "## "
   ]
  },
  {
   "cell_type": "code",
   "execution_count": 22,
   "metadata": {},
   "outputs": [
    {
     "name": "stdout",
     "output_type": "stream",
     "text": [
      "10240\n"
     ]
    }
   ],
   "source": [
    "print(80*128)"
   ]
  },
  {
   "cell_type": "code",
   "execution_count": 17,
   "metadata": {},
   "outputs": [
    {
     "data": {
      "text/plain": [
       "(10000, 784)"
      ]
     },
     "execution_count": 17,
     "metadata": {},
     "output_type": "execute_result"
    }
   ],
   "source": [
    "test_images.shape"
   ]
  },
  {
   "cell_type": "code",
   "execution_count": 18,
   "metadata": {},
   "outputs": [
    {
     "name": "stdout",
     "output_type": "stream",
     "text": [
      "Test sample digit: 2\n"
     ]
    },
    {
     "data": {
      "image/png": "[encoded data removed]",
      "text/plain": [
       "<Figure size 1224x360 with 2 Axes>"
      ]
     },
     "metadata": {
      "needs_background": "light"
     },
     "output_type": "display_data"
    },
    {
     "name": "stdout",
     "output_type": "stream",
     "text": [
      "Network prediction probabilities:\n",
      "[1.5834552e-05 2.3781667e-04 9.9853802e-01 3.8247436e-04 1.4201996e-04\n",
      " 3.5544355e-05 8.7545537e-05 4.8479447e-04 1.5000533e-05 6.0992959e-05]\n"
     ]
    }
   ],
   "source": [
    "n_test = test_images.shape[0]\n",
    "example = np.random.choice(np.arange(n_test))\n",
    "\n",
    "sample = np.expand_dims(test_images[example], axis=0)\n",
    "label = np.expand_dims(test_labels[example], axis=0)\n",
    "\n",
    "digit = np.where(label[0]==1.0)[0][0]\n",
    "\n",
    "feed_dict = {model.image: sample, model.true_label: label}\n",
    "prediction = model.sess.run(model.prediction, feed_dict=feed_dict)[0]\n",
    "\n",
    "image = np.reshape(sample, (28, 28))\n",
    "\n",
    "\n",
    "print(\"Test sample digit: {}\".format(digit))\n",
    "fig, ax = plt.subplots(1, 2, figsize=(17, 5))\n",
    "ax[0].imshow(image, cmap='gray')\n",
    "ax[0].set_title(\"Test example\")\n",
    "\n",
    "classes = np.arange(10)\n",
    "width = 1.0\n",
    "\n",
    "ax[1].bar(classes, prediction, width, color='Blue')\n",
    "ax[1].set_ylabel('Probabilities')\n",
    "ax[1].set_title('Network categorical distribution')\n",
    "ax[1].set_xticks(classes)\n",
    "ax[1].set_xticklabels(('0', '1', '2', '3', '4', '5', '6', '7', '8', '9'))\n",
    "ax[1].set_xlabel('Digit class')\n",
    "\n",
    "plt.show()\n",
    "\n",
    "print(\"Network prediction probabilities:\")\n",
    "print(prediction)"
   ]
  },
  {
   "cell_type": "code",
   "execution_count": 19,
   "metadata": {},
   "outputs": [
    {
     "data": {
      "image/png": "[encoded data removed]",
      "text/plain": [
       "<Figure size 720x360 with 1 Axes>"
      ]
     },
     "metadata": {
      "needs_background": "light"
     },
     "output_type": "display_data"
    }
   ],
   "source": [
    "train_losses = losses\n",
    "\n",
    "iterations = losses[:, 0]\n",
    "train_loss = losses[:, 1]\n",
    "plt.figure(figsize=(10, 5))\n",
    "plt.plot(iterations, train_loss)\n",
    "plt.plot\n",
    "plt.xlabel(\"Iterations\")\n",
    "plt.ylabel(\"Loss\")\n",
    "plt.title(\"Training curve\")\n",
    "plt.show()\n"
   ]
  },
  {
   "cell_type": "code",
   "execution_count": null,
   "metadata": {},
   "outputs": [],
   "source": []
  }
 ],
 "metadata": {
  "kernelspec": {
   "display_name": "Python 3",
   "language": "python",
   "name": "python3"
  },
  "language_info": {
   "codemirror_mode": {
    "name": "ipython",
    "version": 3
   },
   "file_extension": ".py",
   "mimetype": "text/x-python",
   "name": "python",
   "nbconvert_exporter": "python",
   "pygments_lexer": "ipython3",
   "version": "3.6.6"
  }
 },
 "nbformat": 4,
 "nbformat_minor": 2
}
